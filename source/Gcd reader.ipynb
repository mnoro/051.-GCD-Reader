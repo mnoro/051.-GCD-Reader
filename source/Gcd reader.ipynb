{
 "cells": [
  {
   "cell_type": "code",
   "execution_count": 7,
   "metadata": {},
   "outputs": [],
   "source": [
    "import pandas as pd\n",
    "import os"
   ]
  },
  {
   "cell_type": "code",
   "execution_count": 8,
   "metadata": {},
   "outputs": [
    {
     "data": {
      "text/plain": [
       "'1.0.3'"
      ]
     },
     "execution_count": 8,
     "metadata": {},
     "output_type": "execute_result"
    }
   ],
   "source": [
    "pd.__version__"
   ]
  },
  {
   "cell_type": "code",
   "execution_count": 9,
   "metadata": {},
   "outputs": [],
   "source": [
    "uids = ['noromasm', 'hellyo', 'Thyuye', 123435]\n",
    "cns = ['Massimo Noro', 'Helio Partidis', 'Thinde Guy', 'Yoko Soto']\n",
    "fns = ['Massimo', 'Helio', 'Thinde', 'Yoko']\n",
    "lns = ['Noro', 'Partidis', 'Guy', 'Soto']\n",
    "ens=[123442, 677838, 344556, 746647 ]\n",
    "ems = ['massimo@g.com', 'jep@g.com', 'tg@g.com', 'ys@g.com']\n",
    "\n",
    "gcd = pd.DataFrame(zip(uids, cns, fns, lns, ens, ems),\n",
    "                  columns=['uid', 'cn','fn','ln','en', 'em'])"
   ]
  },
  {
   "cell_type": "code",
   "execution_count": 10,
   "metadata": {},
   "outputs": [
    {
     "data": {
      "text/html": [
       "<div>\n",
       "<style scoped>\n",
       "    .dataframe tbody tr th:only-of-type {\n",
       "        vertical-align: middle;\n",
       "    }\n",
       "\n",
       "    .dataframe tbody tr th {\n",
       "        vertical-align: top;\n",
       "    }\n",
       "\n",
       "    .dataframe thead th {\n",
       "        text-align: right;\n",
       "    }\n",
       "</style>\n",
       "<table border=\"1\" class=\"dataframe\">\n",
       "  <thead>\n",
       "    <tr style=\"text-align: right;\">\n",
       "      <th></th>\n",
       "      <th>uid</th>\n",
       "      <th>cn</th>\n",
       "      <th>fn</th>\n",
       "      <th>ln</th>\n",
       "      <th>en</th>\n",
       "      <th>em</th>\n",
       "    </tr>\n",
       "  </thead>\n",
       "  <tbody>\n",
       "    <tr>\n",
       "      <th>0</th>\n",
       "      <td>noromasm</td>\n",
       "      <td>Massimo Noro</td>\n",
       "      <td>Massimo</td>\n",
       "      <td>Noro</td>\n",
       "      <td>123442</td>\n",
       "      <td>massimo@g.com</td>\n",
       "    </tr>\n",
       "    <tr>\n",
       "      <th>1</th>\n",
       "      <td>hellyo</td>\n",
       "      <td>Helio Partidis</td>\n",
       "      <td>Helio</td>\n",
       "      <td>Partidis</td>\n",
       "      <td>677838</td>\n",
       "      <td>jep@g.com</td>\n",
       "    </tr>\n",
       "    <tr>\n",
       "      <th>2</th>\n",
       "      <td>Thyuye</td>\n",
       "      <td>Thinde Guy</td>\n",
       "      <td>Thinde</td>\n",
       "      <td>Guy</td>\n",
       "      <td>344556</td>\n",
       "      <td>tg@g.com</td>\n",
       "    </tr>\n",
       "    <tr>\n",
       "      <th>3</th>\n",
       "      <td>123435</td>\n",
       "      <td>Yoko Soto</td>\n",
       "      <td>Yoko</td>\n",
       "      <td>Soto</td>\n",
       "      <td>746647</td>\n",
       "      <td>ys@g.com</td>\n",
       "    </tr>\n",
       "  </tbody>\n",
       "</table>\n",
       "</div>"
      ],
      "text/plain": [
       "        uid              cn       fn        ln      en             em\n",
       "0  noromasm    Massimo Noro  Massimo      Noro  123442  massimo@g.com\n",
       "1    hellyo  Helio Partidis    Helio  Partidis  677838      jep@g.com\n",
       "2    Thyuye      Thinde Guy   Thinde       Guy  344556       tg@g.com\n",
       "3    123435       Yoko Soto     Yoko      Soto  746647       ys@g.com"
      ]
     },
     "execution_count": 10,
     "metadata": {},
     "output_type": "execute_result"
    }
   ],
   "source": [
    "gcd.head()"
   ]
  },
  {
   "cell_type": "code",
   "execution_count": null,
   "metadata": {},
   "outputs": [],
   "source": [
    "users=['noromasm', 677838]"
   ]
  },
  {
   "cell_type": "code",
   "execution_count": 11,
   "metadata": {},
   "outputs": [],
   "source": [
    "class Gcd_Handler:\n",
    "    '''\n",
    "    Match list of users to GCD'''\n",
    "    \n",
    "    gcd = pd.DataFrame()\n",
    "    leavers = pd.DataFrame()\n",
    "    combined_gcd = pd.DataFrame()\n",
    "    \n",
    "    toprocess = pd.DataFrame()\n",
    "    matched = pd.DataFrame()\n",
    "    unmatched = pd.DataFrame()\n",
    "    \n",
    "    \n",
    "    \n",
    "    def __init__(self, users, gcd, leavers):\n",
    "        '''\n",
    "        Initialise class'''\n",
    "        if type(gcd) == pd.core.frame.DataFrame:\n",
    "            self.gcd = gcd.copy()\n",
    "        return None\n",
    "    \n",
    "    def load_gcd(self, filename):\n",
    "        '''\n",
    "        Initialise GCD'''\n",
    "        return None\n",
    "    \n",
    "    def load_leavers(self, filename):\n",
    "        '''\n",
    "        Initialise Leavers'''\n",
    "        return None"
   ]
  },
  {
   "cell_type": "code",
   "execution_count": 12,
   "metadata": {},
   "outputs": [
    {
     "name": "stdout",
     "output_type": "stream",
     "text": [
      "OK\n"
     ]
    }
   ],
   "source": [
    "if type(gcd) == pd.core.frame.DataFrame:\n",
    "    print('OK')"
   ]
  },
  {
   "cell_type": "code",
   "execution_count": 13,
   "metadata": {},
   "outputs": [
    {
     "ename": "TypeError",
     "evalue": "__init__() missing 3 required positional arguments: 'users', 'gcd', and 'leavers'",
     "output_type": "error",
     "traceback": [
      "\u001b[0;31m---------------------------------------------------------------------------\u001b[0m",
      "\u001b[0;31mTypeError\u001b[0m                                 Traceback (most recent call last)",
      "\u001b[0;32m<ipython-input-13-9dad6c152622>\u001b[0m in \u001b[0;36m<module>\u001b[0;34m\u001b[0m\n\u001b[0;32m----> 1\u001b[0;31m \u001b[0mgcd\u001b[0m\u001b[0;34m=\u001b[0m\u001b[0mGcd_Handler\u001b[0m\u001b[0;34m(\u001b[0m\u001b[0;34m)\u001b[0m\u001b[0;34m\u001b[0m\u001b[0m\n\u001b[0m",
      "\u001b[0;31mTypeError\u001b[0m: __init__() missing 3 required positional arguments: 'users', 'gcd', and 'leavers'"
     ]
    }
   ],
   "source": [
    "gcd=Gcd_Handler()"
   ]
  }
 ],
 "metadata": {
  "kernelspec": {
   "display_name": "Python 3",
   "language": "python",
   "name": "python3"
  },
  "language_info": {
   "codemirror_mode": {
    "name": "ipython",
    "version": 3
   },
   "file_extension": ".py",
   "mimetype": "text/x-python",
   "name": "python",
   "nbconvert_exporter": "python",
   "pygments_lexer": "ipython3",
   "version": "3.6.6+"
  }
 },
 "nbformat": 4,
 "nbformat_minor": 2
}
